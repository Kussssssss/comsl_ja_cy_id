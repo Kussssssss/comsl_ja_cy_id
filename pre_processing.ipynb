{
 "cells": [
  {
   "cell_type": "markdown",
   "id": "3870abab",
   "metadata": {},
   "source": [
    "# Kiểm tra và xóa các file audio không có trong validated"
   ]
  },
  {
   "cell_type": "code",
   "execution_count": 2,
   "id": "88c9a5db",
   "metadata": {},
   "outputs": [
    {
     "name": "stdout",
     "output_type": "stream",
     "text": [
      "Số lượng dòng trong các file tsv:\n",
      "validated.tsv: 2439\n",
      "\n",
      "Số lượng audio trong folder clips: 2438\n"
     ]
    }
   ],
   "source": [
    "import os\n",
    "from pathlib import Path\n",
    "\n",
    "\n",
    "# CONFIGURATION\n",
    "xx = \"ja\" #params type:{str}\n",
    "dataset_path = \"japan_dataset\"\n",
    "ROOT = Path(r\"C:\\Users\\Admin\\PycharmProjects\\comsl_ja_cy_id\")\n",
    "DATA_PATH = os.path.join(ROOT, dataset_path)\n",
    "\n",
    "data_dir = DATA_PATH\n",
    "clips_dir = os.path.join(data_dir, \"clips\")\n",
    "\n",
    "tsv_files = [\n",
    "    \"validated.tsv\"\n",
    "]\n",
    "\n",
    "print(\"Số lượng dòng trong các file tsv:\")\n",
    "for tsv_file in tsv_files:\n",
    "    tsv_path = os.path.join(data_dir, tsv_file)  \n",
    "    try:\n",
    "        with open(tsv_path, 'r', encoding='utf-8') as f:\n",
    "            line_count = sum(1 for line in f)\n",
    "        print(f\"{tsv_file}: {line_count}\")\n",
    "    except Exception as e:\n",
    "        print(f\"{tsv_file}: Lỗi - {e}\")\n",
    "\n",
    "audio_extensions = ('.mp3', '.wav', '.flac', '.ogg')\n",
    "audio_count = sum(1 for f in os.listdir(clips_dir) if f.lower().endswith(audio_extensions))\n",
    "print(f\"\\nSố lượng audio trong folder clips: {audio_count}\")"
   ]
  },
  {
   "cell_type": "code",
   "execution_count": 11,
   "id": "5676a4f5",
   "metadata": {},
   "outputs": [
    {
     "name": "stdout",
     "output_type": "stream",
     "text": [
      "Số lượng dòng trong các file tsv:\n",
      "covost_v2.cy_en.tsv: 47060\n"
     ]
    }
   ],
   "source": [
    "tsv_files = [\n",
    "    f\"covost_v2.{xx}_en.tsv\" # sửa path \n",
    "]\n",
    "\n",
    "print(\"Số lượng dòng trong các file tsv:\")\n",
    "for tsv_file in tsv_files:\n",
    "    tsv_path = os.path.join(data_dir, tsv_file)  \n",
    "    try:\n",
    "        with open(tsv_path, 'r', encoding='utf-8') as f:\n",
    "            line_count = sum(1 for line in f)\n",
    "        print(f\"{tsv_file}: {line_count}\")\n",
    "    except Exception as e:\n",
    "        print(f\"{tsv_file}: Lỗi - {e}\")"
   ]
  },
  {
   "cell_type": "code",
   "execution_count": 12,
   "id": "e8e6a63d",
   "metadata": {},
   "outputs": [
    {
     "name": "stdout",
     "output_type": "stream",
     "text": [
      "Đã xoá 8642 file không có trong validated.tsv.\n"
     ]
    }
   ],
   "source": [
    "import os\n",
    "import csv\n",
    "\n",
    "data_dir = DATA_PATH\n",
    "clips_dir = os.path.join(data_dir, \"clips\")\n",
    "validated_tsv = os.path.join(data_dir, \"validated.tsv\")\n",
    "\n",
    "# Đọc tất cả path hợp lệ từ validated.tsv\n",
    "valid_paths = set()\n",
    "with open(validated_tsv, 'r', encoding='utf-8') as tsvfile:\n",
    "    reader = csv.DictReader(tsvfile, delimiter='\\t')\n",
    "    for row in reader:\n",
    "        valid_paths.add(row['path'])\n",
    "\n",
    "# Duyệt tất cả file trong clips, xoá file không có trong valid_paths\n",
    "deleted_count = 0\n",
    "for file_name in os.listdir(clips_dir):\n",
    "    if file_name not in valid_paths:\n",
    "        file_path = os.path.join(clips_dir, file_name)\n",
    "        try:\n",
    "            os.remove(file_path)\n",
    "            deleted_count += 1\n",
    "        except Exception as e:\n",
    "            print(f\"Lỗi xoá {file_name}: {e}\")\n",
    "\n",
    "print(f\"Đã xoá {deleted_count} file không có trong validated.tsv.\")"
   ]
  },
  {
   "cell_type": "markdown",
   "id": "0538f708",
   "metadata": {},
   "source": [
    "# Scale train/dev/test"
   ]
  },
  {
   "cell_type": "code",
   "execution_count": 3,
   "id": "83ceaa14",
   "metadata": {},
   "outputs": [],
   "source": [
    "import pandas as pd\n",
    "\n",
    "TRAIN_PATH = os.path.join(ROOT, f\"{dataset_path}\", f\"covost_v2.{xx}_en.train.tsv\")\n",
    "DEV_PATH = os.path.join(ROOT, f\"{dataset_path}\", f\"covost_v2.{xx}_en.dev.tsv\")\n",
    "TEST_PATH = os.path.join(ROOT, f\"{dataset_path}\", f\"covost_v2.{xx}_en.test.tsv\")\n",
    "EXTRA_PATH = os.path.join(ROOT, f\"{dataset_path}\", 'psudo', f\"{xx}_en.train.tsv\")\n"
   ]
  },
  {
   "cell_type": "code",
   "execution_count": 14,
   "id": "c4d3a54b",
   "metadata": {},
   "outputs": [
    {
     "name": "stdout",
     "output_type": "stream",
     "text": [
      "Đã tạo file: C:\\Users\\Admin\\PycharmProjects\\comsl_ja_cy_id\\welsh_dataset\\covost_v2.cy_en.train.tsv với 1200 dòng\n"
     ]
    },
    {
     "data": {
      "text/plain": [
       "1200"
      ]
     },
     "execution_count": 14,
     "metadata": {},
     "output_type": "execute_result"
    }
   ],
   "source": [
    "tsv_path = TRAIN_PATH\n",
    "df = pd.read_csv(tsv_path, sep=\"\\t\")\n",
    "\n",
    "# Giữ lại 1200 dòng đầu tiên\n",
    "train_df = df.head(1200)\n",
    "\n",
    "# Lưu ra file mới (ví dụ ở thư mục working, hoặc ghi đè nếu muốn)\n",
    "train_tsv_path = TRAIN_PATH\n",
    "train_df.to_csv(train_tsv_path, sep=\"\\t\", index=False)\n",
    "\n",
    "print(f\"Đã tạo file: {train_tsv_path} với {len(train_df)} dòng\")\n",
    "len(train_df)"
   ]
  },
  {
   "cell_type": "code",
   "execution_count": 15,
   "id": "859f1ce9",
   "metadata": {},
   "outputs": [
    {
     "name": "stdout",
     "output_type": "stream",
     "text": [
      "Đã tạo file: C:\\Users\\Admin\\PycharmProjects\\comsl_ja_cy_id\\welsh_dataset\\covost_v2.cy_en.test.tsv với 150 dòng\n"
     ]
    },
    {
     "data": {
      "text/plain": [
       "150"
      ]
     },
     "execution_count": 15,
     "metadata": {},
     "output_type": "execute_result"
    }
   ],
   "source": [
    "tsv_path = TEST_PATH\n",
    "df = pd.read_csv(tsv_path, sep=\"\\t\")\n",
    "\n",
    "# Giữ lại 150 dòng đầu tiên\n",
    "test_df = df.head(150)\n",
    "\n",
    "test_tsv_path = TEST_PATH\n",
    "test_df.to_csv(test_tsv_path, sep=\"\\t\", index=False)\n",
    "\n",
    "print(f\"Đã tạo file: {test_tsv_path} với {len(test_df)} dòng\")\n",
    "len(test_df)"
   ]
  },
  {
   "cell_type": "code",
   "execution_count": 16,
   "id": "2405d8e0",
   "metadata": {},
   "outputs": [
    {
     "name": "stdout",
     "output_type": "stream",
     "text": [
      "Đã tạo file: C:\\Users\\Admin\\PycharmProjects\\comsl_ja_cy_id\\welsh_dataset\\covost_v2.cy_en.dev.tsv với 150 dòng\n"
     ]
    },
    {
     "data": {
      "text/plain": [
       "150"
      ]
     },
     "execution_count": 16,
     "metadata": {},
     "output_type": "execute_result"
    }
   ],
   "source": [
    "tsv_path = DEV_PATH\n",
    "df = pd.read_csv(tsv_path, sep=\"\\t\")\n",
    "\n",
    "# Giữ lại 150 dòng đầu tiên\n",
    "dev_df = df.head(150)\n",
    "\n",
    "# Lưu ra file mới (ví dụ ở thư mục working, hoặc ghi đè nếu muốn)\n",
    "dev_tsv_path = DEV_PATH\n",
    "dev_df.to_csv(dev_tsv_path, sep=\"\\t\", index=False)\n",
    "\n",
    "print(f\"Đã tạo file: {dev_tsv_path} với {len(dev_df)} dòng\")\n",
    "len(dev_df)"
   ]
  },
  {
   "cell_type": "code",
   "execution_count": 5,
   "id": "c1eddb61",
   "metadata": {},
   "outputs": [
    {
     "name": "stdout",
     "output_type": "stream",
     "text": [
      "Đã tạo file: C:\\Users\\Admin\\PycharmProjects\\comsl_ja_cy_id\\japan_dataset\\psudo\\ja_en.train.tsv với 120 dòng\n"
     ]
    },
    {
     "data": {
      "text/plain": [
       "120"
      ]
     },
     "execution_count": 5,
     "metadata": {},
     "output_type": "execute_result"
    }
   ],
   "source": [
    "tsv_path = EXTRA_PATH\n",
    "df = pd.read_csv(tsv_path, sep=\"\\t\")\n",
    "\n",
    "# Giữ lại 120 dòng đầu tiên\n",
    "extra_df = df.head(120)\n",
    "\n",
    "# Lưu ra file mới (ví dụ ở thư mục working, hoặc ghi đè nếu muốn)\n",
    "extra_tsv_path = EXTRA_PATH\n",
    "extra_df.to_csv(extra_tsv_path, sep=\"\\t\", index=False)\n",
    "\n",
    "print(f\"Đã tạo file: {extra_tsv_path} với {len(extra_df)} dòng\")\n",
    "len(extra_df)"
   ]
  },
  {
   "cell_type": "code",
   "execution_count": 6,
   "id": "61402050",
   "metadata": {},
   "outputs": [
    {
     "name": "stdout",
     "output_type": "stream",
     "text": [
      "Moved: common_voice_ja_25861545.mp3\n",
      "Moved: common_voice_ja_25861546.mp3\n",
      "Moved: common_voice_ja_25861565.mp3\n",
      "Moved: common_voice_ja_25861566.mp3\n",
      "Moved: common_voice_ja_25861568.mp3\n",
      "Moved: common_voice_ja_25861593.mp3\n",
      "Moved: common_voice_ja_25861594.mp3\n",
      "Moved: common_voice_ja_25861596.mp3\n",
      "Moved: common_voice_ja_25861656.mp3\n",
      "Moved: common_voice_ja_25861657.mp3\n",
      "Moved: common_voice_ja_25861739.mp3\n",
      "Moved: common_voice_ja_25861740.mp3\n",
      "Moved: common_voice_ja_25861743.mp3\n",
      "Moved: common_voice_ja_25861759.mp3\n",
      "Moved: common_voice_ja_25861760.mp3\n",
      "Moved: common_voice_ja_25861763.mp3\n",
      "Moved: common_voice_ja_25862023.mp3\n",
      "Moved: common_voice_ja_25862024.mp3\n",
      "Moved: common_voice_ja_25863008.mp3\n",
      "Moved: common_voice_ja_25863010.mp3\n",
      "Moved: common_voice_ja_25863011.mp3\n",
      "Moved: common_voice_ja_25863013.mp3\n",
      "Moved: common_voice_ja_25863014.mp3\n",
      "Moved: common_voice_ja_25863082.mp3\n",
      "Moved: common_voice_ja_25863086.mp3\n",
      "Moved: common_voice_ja_25863245.mp3\n",
      "Moved: common_voice_ja_25863249.mp3\n",
      "Moved: common_voice_ja_25863267.mp3\n",
      "Moved: common_voice_ja_25863269.mp3\n",
      "Moved: common_voice_ja_25863270.mp3\n",
      "Moved: common_voice_ja_25863281.mp3\n",
      "Moved: common_voice_ja_25863284.mp3\n",
      "Moved: common_voice_ja_25863285.mp3\n",
      "Moved: common_voice_ja_25863286.mp3\n",
      "Moved: common_voice_ja_25863306.mp3\n",
      "Moved: common_voice_ja_25863307.mp3\n",
      "Moved: common_voice_ja_25863309.mp3\n",
      "Moved: common_voice_ja_25863370.mp3\n",
      "Moved: common_voice_ja_25863372.mp3\n",
      "Moved: common_voice_ja_25863374.mp3\n",
      "Moved: common_voice_ja_25863433.mp3\n",
      "Moved: common_voice_ja_25863434.mp3\n",
      "Moved: common_voice_ja_25863436.mp3\n",
      "Moved: common_voice_ja_25863437.mp3\n",
      "Moved: common_voice_ja_25863748.mp3\n",
      "Moved: common_voice_ja_25863751.mp3\n",
      "Moved: common_voice_ja_25863770.mp3\n",
      "Moved: common_voice_ja_25863771.mp3\n",
      "Moved: common_voice_ja_25863772.mp3\n",
      "Moved: common_voice_ja_25863787.mp3\n",
      "Moved: common_voice_ja_25863913.mp3\n",
      "Moved: common_voice_ja_25863914.mp3\n",
      "Moved: common_voice_ja_25863915.mp3\n",
      "Moved: common_voice_ja_25863926.mp3\n",
      "Moved: common_voice_ja_25863928.mp3\n",
      "Moved: common_voice_ja_25863929.mp3\n",
      "Moved: common_voice_ja_25863930.mp3\n",
      "Moved: common_voice_ja_25863951.mp3\n",
      "Moved: common_voice_ja_25863952.mp3\n",
      "Moved: common_voice_ja_25863957.mp3\n",
      "Moved: common_voice_ja_25863976.mp3\n",
      "Moved: common_voice_ja_25863979.mp3\n",
      "Moved: common_voice_ja_25863992.mp3\n",
      "Moved: common_voice_ja_25863995.mp3\n",
      "Moved: common_voice_ja_25864004.mp3\n",
      "Moved: common_voice_ja_25864006.mp3\n",
      "Moved: common_voice_ja_25864718.mp3\n",
      "Moved: common_voice_ja_25864723.mp3\n",
      "Moved: common_voice_ja_25864731.mp3\n",
      "Moved: common_voice_ja_25864732.mp3\n",
      "Moved: common_voice_ja_25864735.mp3\n",
      "Moved: common_voice_ja_25866624.mp3\n",
      "Moved: common_voice_ja_25866626.mp3\n",
      "Moved: common_voice_ja_25866643.mp3\n",
      "Moved: common_voice_ja_25866681.mp3\n",
      "Moved: common_voice_ja_25866683.mp3\n",
      "Moved: common_voice_ja_25866699.mp3\n",
      "Moved: common_voice_ja_25866816.mp3\n",
      "Moved: common_voice_ja_25866817.mp3\n",
      "Moved: common_voice_ja_25867371.mp3\n",
      "Moved: common_voice_ja_25867372.mp3\n",
      "Moved: common_voice_ja_25867373.mp3\n",
      "Moved: common_voice_ja_25867401.mp3\n",
      "Moved: common_voice_ja_25867403.mp3\n",
      "Moved: common_voice_ja_25867404.mp3\n",
      "Moved: common_voice_ja_25867597.mp3\n",
      "Moved: common_voice_ja_25867598.mp3\n",
      "Moved: common_voice_ja_25867605.mp3\n",
      "Moved: common_voice_ja_25867606.mp3\n",
      "Moved: common_voice_ja_25867607.mp3\n",
      "Moved: common_voice_ja_25867675.mp3\n",
      "Moved: common_voice_ja_25867676.mp3\n",
      "Moved: common_voice_ja_25867678.mp3\n",
      "Moved: common_voice_ja_25867684.mp3\n",
      "Moved: common_voice_ja_25867687.mp3\n",
      "Moved: common_voice_ja_25867688.mp3\n",
      "Moved: common_voice_ja_25867690.mp3\n",
      "Moved: common_voice_ja_25867692.mp3\n",
      "Moved: common_voice_ja_25867859.mp3\n",
      "Moved: common_voice_ja_25867860.mp3\n",
      "Moved: common_voice_ja_25867861.mp3\n",
      "Moved: common_voice_ja_25867863.mp3\n",
      "Moved: common_voice_ja_25867885.mp3\n",
      "Moved: common_voice_ja_25867887.mp3\n",
      "Moved: common_voice_ja_25867888.mp3\n",
      "Moved: common_voice_ja_25867889.mp3\n",
      "Moved: common_voice_ja_25867890.mp3\n",
      "Moved: common_voice_ja_25867891.mp3\n",
      "Moved: common_voice_ja_25867892.mp3\n",
      "Moved: common_voice_ja_25867893.mp3\n",
      "Moved: common_voice_ja_25867894.mp3\n",
      "Moved: common_voice_ja_25867895.mp3\n",
      "Moved: common_voice_ja_25867897.mp3\n",
      "Moved: common_voice_ja_25867898.mp3\n",
      "Moved: common_voice_ja_25867909.mp3\n",
      "Moved: common_voice_ja_25867912.mp3\n",
      "Moved: common_voice_ja_25867913.mp3\n",
      "Moved: common_voice_ja_25867914.mp3\n",
      "Moved: common_voice_ja_25867915.mp3\n",
      "Moved: common_voice_ja_25867917.mp3\n"
     ]
    }
   ],
   "source": [
    "import os\n",
    "import shutil\n",
    "import pandas as pd\n",
    "\n",
    "# 1) Thiết lập đường dẫn\n",
    "tsv_file = EXTRA_PATH\n",
    "src_dir  = r\"C:\\Users\\Admin\\PycharmProjects\\comsl_ja_cy_id\\cv-corpus-11.0-2022-09-21\\ja\\clips\"\n",
    "dst_dir  = r\"C:\\Users\\Admin\\PycharmProjects\\comsl_ja_cy_id\\japan_dataset\\clips\"\n",
    "\n",
    "# 2) Tạo folder đích nếu chưa có\n",
    "os.makedirs(dst_dir, exist_ok=True)\n",
    "\n",
    "# 3) Đọc cột 'path' trong TSV (chỉ lấy tên file)\n",
    "df = pd.read_csv(tsv_file, sep='\\t', usecols=['path'])\n",
    "\n",
    "# 4) Duyệt qua danh sách file, move từng file\n",
    "for fname in df['path'].dropna().unique():\n",
    "    # chỉ lấy tên file (nếu TSV chứa đường dẫn tương đối)\n",
    "    filename = os.path.basename(fname)\n",
    "    src_path = os.path.join(src_dir, filename)\n",
    "    dst_path = os.path.join(dst_dir, filename)\n",
    "\n",
    "    if os.path.exists(src_path):\n",
    "        try:\n",
    "            shutil.move(src_path, dst_path)\n",
    "            print(f\"Moved: {filename}\")\n",
    "        except Exception as e:\n",
    "            print(f\"⚠️ Lỗi khi move {filename}: {e}\")\n",
    "    else:\n",
    "        print(f\"❌ Không tìm thấy: {src_path}\")\n"
   ]
  },
  {
   "cell_type": "markdown",
   "id": "30eecdbf",
   "metadata": {},
   "source": [
    "# Kaggle - Visualize "
   ]
  },
  {
   "cell_type": "markdown",
   "id": "0451f527",
   "metadata": {},
   "source": [
    "%pip install tensorboard"
   ]
  },
  {
   "cell_type": "code",
   "execution_count": null,
   "id": "0c8a2421",
   "metadata": {},
   "outputs": [],
   "source": [
    "import os\n",
    "\n",
    "for file in os.listdir(\"/kaggle/working/comsl/output/comsl_mn2en/logs/ComST/default\"):\n",
    "    print(file)"
   ]
  },
  {
   "cell_type": "code",
   "execution_count": null,
   "id": "0f880d0e",
   "metadata": {},
   "outputs": [],
   "source": [
    "from tensorboard.backend.event_processing.event_accumulator import EventAccumulator\n",
    "import os\n",
    "\n",
    "log_dir = \"/kaggle/working/comsl/output/comsl_mn2en/logs/ComST/default\"\n",
    "# Chọn file events lớn nhất/thường là mới nhất\n",
    "event_files = [f for f in os.listdir(log_dir) if f.startswith('events.out')]\n",
    "event_path = os.path.join(log_dir, sorted(event_files)[-1])\n",
    "\n",
    "event_acc = EventAccumulator(event_path)\n",
    "event_acc.Reload()\n",
    "\n",
    "print(\"Tất cả các scalar tag:\")\n",
    "print(event_acc.Tags()['scalars'])  # In ra các metric mà bạn có thể đọc"
   ]
  },
  {
   "cell_type": "code",
   "execution_count": null,
   "id": "0bf9ebf9",
   "metadata": {},
   "outputs": [],
   "source": [
    "%load_ext tensorboard\n",
    "%tensorboard --logdir /kaggle/working/comsl/output/comsl_mn2en/logs/ComST/default"
   ]
  },
  {
   "cell_type": "code",
   "execution_count": null,
   "id": "f294166e",
   "metadata": {},
   "outputs": [],
   "source": [
    "train_acc = event_acc.Scalars('train_acc_asr')\n",
    "train_acc"
   ]
  },
  {
   "cell_type": "code",
   "execution_count": null,
   "id": "5eec358c",
   "metadata": {},
   "outputs": [],
   "source": [
    "import numpy as np\n",
    "import matplotlib.pyplot as plt\n",
    "\n",
    "\n",
    "steps = np.array([e.step for e in train_acc])\n",
    "values = np.array([e.value for e in train_acc])\n",
    "\n",
    "num_samples = 1200\n",
    "batch_size = 10 \n",
    "num_epochs = 5\n",
    "steps_per_epoch = int(np.ceil(num_samples / batch_size))\n",
    "\n",
    "# Map step sang epoch\n",
    "epoch_ids = (steps // steps_per_epoch).astype(int)   # epoch bắt đầu từ 0\n",
    "\n",
    "# Lưu trữ accuracy cho từng epoch\n",
    "epoch_acc_dict = {}\n",
    "for epoch in range(num_epochs):\n",
    "    epoch_acc = values[epoch_ids == epoch]\n",
    "    if len(epoch_acc) > 0:\n",
    "        epoch_acc_dict[epoch+1] = epoch_acc.mean()  # lấy giá trị trung bình mỗi epoch\n",
    "    else:\n",
    "        epoch_acc_dict[epoch+1] = np.nan  # nếu epoch này chưa có dữ liệu\n",
    "\n",
    "# Convert về array để vẽ\n",
    "epochs = np.array(list(epoch_acc_dict.keys()))\n",
    "epoch_accs = np.array(list(epoch_acc_dict.values()))\n",
    "\n",
    "# Plot\n",
    "plt.plot(epochs, epoch_accs, marker='o')\n",
    "plt.xlabel(\"Epoch\")\n",
    "plt.ylabel(\"Train Accuracy (%)\")\n",
    "plt.title(\"Train Accuracy per Epoch\")\n",
    "plt.grid(True)\n",
    "plt.show()"
   ]
  },
  {
   "cell_type": "markdown",
   "id": "d1881c59",
   "metadata": {},
   "source": [
    "# Kaggle - download checkpoint"
   ]
  },
  {
   "cell_type": "code",
   "execution_count": null,
   "id": "1602dd7c",
   "metadata": {},
   "outputs": [],
   "source": []
  }
 ],
 "metadata": {
  "kernelspec": {
   "display_name": "datascience",
   "language": "python",
   "name": "python3"
  },
  "language_info": {
   "codemirror_mode": {
    "name": "ipython",
    "version": 3
   },
   "file_extension": ".py",
   "mimetype": "text/x-python",
   "name": "python",
   "nbconvert_exporter": "python",
   "pygments_lexer": "ipython3",
   "version": "3.11.4"
  }
 },
 "nbformat": 4,
 "nbformat_minor": 5
}
